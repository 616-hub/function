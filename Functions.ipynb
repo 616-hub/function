{
  "nbformat": 4,
  "nbformat_minor": 0,
  "metadata": {
    "colab": {
      "provenance": []
    },
    "kernelspec": {
      "name": "python3",
      "display_name": "Python 3"
    },
    "language_info": {
      "name": "python"
    }
  },
  "cells": [
    {
      "cell_type": "code",
      "execution_count": null,
      "metadata": {
        "id": "HmWiiYiBKOEx"
      },
      "outputs": [],
      "source": []
    },
    {
      "cell_type": "markdown",
      "source": [
        "question1. Difference between a Function and a Method in Python\n",
        "\n",
        "Function: A block of reusable code that performs a specific task and can be called independently.\n",
        "\n",
        "Method: A function that is associated with an object, typically called using the object.method() syntax.\n"
      ],
      "metadata": {
        "id": "t6zr8BmVKXCX"
      }
    },
    {
      "cell_type": "code",
      "source": [
        "# Function\n",
        "def greet(name):\n",
        "    return f\"Hello, {name}!\"\n",
        "print(greet(\"Alice\"))\n",
        "\n",
        "# Method\n",
        "class Person:\n",
        "    def greet(self):\n",
        "        return \"Hello!\"\n",
        "p = Person()\n",
        "print(p.greet())"
      ],
      "metadata": {
        "colab": {
          "base_uri": "https://localhost:8080/"
        },
        "id": "UOB4HgohKhIm",
        "outputId": "1313c572-0c63-408e-b291-709cd835de0d"
      },
      "execution_count": null,
      "outputs": [
        {
          "output_type": "stream",
          "name": "stdout",
          "text": [
            "Hello, Alice!\n",
            "Hello!\n"
          ]
        }
      ]
    },
    {
      "cell_type": "markdown",
      "source": [
        "question2. Function Arguments and Parameters in Python\n",
        "\n",
        "Parameters: Variables listed in the function definition.\n",
        "\n",
        "Arguments: Actual values passed to the function when calling it."
      ],
      "metadata": {
        "id": "Ol9fRNLWKohj"
      }
    },
    {
      "cell_type": "code",
      "source": [
        "def add(a, b):  # a and b are parameters\n",
        "    return a + b\n",
        "result = add(2, 3)  # 2 and 3 are arguments\n",
        "print(result)"
      ],
      "metadata": {
        "colab": {
          "base_uri": "https://localhost:8080/"
        },
        "id": "sbJiOReqK1AH",
        "outputId": "c0e76724-52f3-4a74-d54f-c44b85719902"
      },
      "execution_count": null,
      "outputs": [
        {
          "output_type": "stream",
          "name": "stdout",
          "text": [
            "5\n"
          ]
        }
      ]
    },
    {
      "cell_type": "markdown",
      "source": [
        "3. Different Ways to Define and Call a Function\n",
        "\n",
        "Defining: Using the def keyword or lambda functions.\n",
        "\n",
        "Calling: By using the function name followed by parentheses.\n",
        "Example:"
      ],
      "metadata": {
        "id": "Mt5vHb9xLAqR"
      }
    },
    {
      "cell_type": "code",
      "source": [
        "# Regular function\n",
        "def square(x):\n",
        "    return x * x\n",
        "print(square(4))\n",
        "\n",
        "# Lambda function\n",
        "square_lambda = lambda x: x * x\n",
        "print(square_lambda(4))"
      ],
      "metadata": {
        "colab": {
          "base_uri": "https://localhost:8080/"
        },
        "id": "EDY2vjvBiJnF",
        "outputId": "832992ce-1c93-4d07-afd2-aaf802147ff7"
      },
      "execution_count": 1,
      "outputs": [
        {
          "output_type": "stream",
          "name": "stdout",
          "text": [
            "16\n",
            "16\n"
          ]
        }
      ]
    },
    {
      "cell_type": "markdown",
      "source": [
        "4. Purpose of the return Statement\n",
        "\n",
        "The return statement is used to send a result back to the caller."
      ],
      "metadata": {
        "id": "yWXHK7gmiZj5"
      }
    },
    {
      "cell_type": "code",
      "source": [
        "#Example:\n",
        "\n",
        "\n",
        "\n",
        "def multiply(a, b):\n",
        "    return a * b\n",
        "result = multiply(3, 4)\n",
        "print(result)"
      ],
      "metadata": {
        "colab": {
          "base_uri": "https://localhost:8080/"
        },
        "id": "CgLksecKieVx",
        "outputId": "d2a020f3-b965-476f-a09a-e739593c3e6a"
      },
      "execution_count": 3,
      "outputs": [
        {
          "output_type": "stream",
          "name": "stdout",
          "text": [
            "12\n"
          ]
        }
      ]
    },
    {
      "cell_type": "markdown",
      "source": [
        "5. Iterators vs Iterables\n",
        "\n",
        "Iterable: An object that can be looped over (e.g., lists, strings).\n",
        "\n",
        "Iterator: An object that produces elements one at a time using the __next__() method.\n",
        "\n",
        "Example:"
      ],
      "metadata": {
        "id": "6xSfRlXdioDZ"
      }
    },
    {
      "cell_type": "code",
      "source": [
        "iterable = [1, 2, 3]\n",
        "iterator = iter(iterable)\n",
        "print(next(iterator))  # 1\n",
        "print(next(iterator))  # 2"
      ],
      "metadata": {
        "colab": {
          "base_uri": "https://localhost:8080/"
        },
        "id": "K77JMDsWitg5",
        "outputId": "5f4482c6-1d89-4bbc-f39c-3e6e6caa889b"
      },
      "execution_count": 4,
      "outputs": [
        {
          "output_type": "stream",
          "name": "stdout",
          "text": [
            "1\n",
            "2\n"
          ]
        }
      ]
    },
    {
      "cell_type": "markdown",
      "source": [
        "6. Concept of Generators\n",
        "\n",
        "Generators are functions that yield values one at a time using the yield keyword."
      ],
      "metadata": {
        "id": "x1huHfqwiwk5"
      }
    },
    {
      "cell_type": "code",
      "source": [
        "def countdown(n):\n",
        "    while n > 0:\n",
        "        yield n\n",
        "        n -= 1\n",
        "for num in countdown(3):\n",
        "    print(num)"
      ],
      "metadata": {
        "colab": {
          "base_uri": "https://localhost:8080/"
        },
        "id": "JLoeY_VBi2h9",
        "outputId": "2980b92d-1be0-4f96-a898-d87478e555b1"
      },
      "execution_count": 5,
      "outputs": [
        {
          "output_type": "stream",
          "name": "stdout",
          "text": [
            "3\n",
            "2\n",
            "1\n"
          ]
        }
      ]
    },
    {
      "cell_type": "markdown",
      "source": [
        "7. Advantages of Generators\n",
        "\n",
        "Memory-efficient: They generate items on the fly.\n",
        "\n",
        "Lazy evaluation: Values are produced only when required."
      ],
      "metadata": {
        "id": "0xC_voLNi5sd"
      }
    },
    {
      "cell_type": "code",
      "source": [
        "def infinite_numbers():\n",
        "    num = 0\n",
        "    while True:\n",
        "        yield num\n",
        "        num += 1"
      ],
      "metadata": {
        "id": "l9GtXG_ei__4"
      },
      "execution_count": 6,
      "outputs": []
    },
    {
      "cell_type": "markdown",
      "source": [
        "8. Lambda Function\n",
        "\n",
        "Anonymous, one-line functions defined using the lambda keyword."
      ],
      "metadata": {
        "id": "7GOSZhlhjDk3"
      }
    },
    {
      "cell_type": "code",
      "source": [
        "square = lambda x: x * x\n",
        "print(square(5))"
      ],
      "metadata": {
        "colab": {
          "base_uri": "https://localhost:8080/"
        },
        "id": "PKaDKmgEjHQ5",
        "outputId": "71f6eda1-f5a5-49d2-ab29-63520e40ca1f"
      },
      "execution_count": 7,
      "outputs": [
        {
          "output_type": "stream",
          "name": "stdout",
          "text": [
            "25\n"
          ]
        }
      ]
    },
    {
      "cell_type": "markdown",
      "source": [
        "9. Purpose of the map() Function\n",
        "\n",
        "Applies a function to all elements of an iterable."
      ],
      "metadata": {
        "id": "xc2yE8TRjKef"
      }
    },
    {
      "cell_type": "code",
      "source": [
        "nums = [1, 2, 3]\n",
        "squares = map(lambda x: x * x, nums)\n",
        "print(list(squares))"
      ],
      "metadata": {
        "colab": {
          "base_uri": "https://localhost:8080/"
        },
        "id": "SV65CRoqjOjc",
        "outputId": "ae4fd9bc-8fea-45c5-b746-b9049e637522"
      },
      "execution_count": 8,
      "outputs": [
        {
          "output_type": "stream",
          "name": "stdout",
          "text": [
            "[1, 4, 9]\n"
          ]
        }
      ]
    },
    {
      "cell_type": "markdown",
      "source": [
        "10. Difference between map(), reduce(), and filter()\n",
        "\n",
        "map(): Applies a function to every element.\n",
        "\n",
        "filter(): Filters elements based on a condition.\n",
        "\n",
        "reduce(): Reduces an iterable to a single value."
      ],
      "metadata": {
        "id": "G56DVj50jRVZ"
      }
    },
    {
      "cell_type": "code",
      "source": [
        "from functools import reduce\n",
        "\n",
        "nums = [1, 2, 3, 4]\n",
        "\n",
        "# map\n",
        "print(list(map(lambda x: x * x, nums)))  # [1, 4, 9, 16]\n",
        "\n",
        "# filter\n",
        "print(list(filter(lambda x: x % 2 == 0, nums)))  # [2, 4]\n",
        "\n",
        "# reduce\n",
        "print(reduce(lambda x, y: x + y, nums))  # 10\n"
      ],
      "metadata": {
        "colab": {
          "base_uri": "https://localhost:8080/"
        },
        "id": "KlI-M9-kjVvO",
        "outputId": "76806578-8d9d-4337-8df6-f4ccb7701f8e"
      },
      "execution_count": 9,
      "outputs": [
        {
          "output_type": "stream",
          "name": "stdout",
          "text": [
            "[1, 4, 9, 16]\n",
            "[2, 4]\n",
            "10\n"
          ]
        }
      ]
    },
    {
      "cell_type": "markdown",
      "source": [
        "11. Internal Mechanism for reduce()\n",
        "\n",
        "For the list [47, 11, 42, 13], here’s how the sum operation using reduce() works step-by-step:\n",
        "\n",
        "Initialize the first two elements: 47 + 11 = 58.\n",
        "Use the result (58) with the next element: 58 + 42 = 100.\n",
        "Finally: 100 + 13 = 113."
      ],
      "metadata": {
        "id": "odbNcGrkjZSn"
      }
    },
    {
      "cell_type": "code",
      "source": [
        "#practical questions"
      ],
      "metadata": {
        "id": "jO-X1m1kjjKj"
      },
      "execution_count": null,
      "outputs": []
    },
    {
      "cell_type": "code",
      "source": [
        "#question1. Write a Python function that takes a list of numbers as input and returns the sum of all even numbers in\n",
        "#the list.\n",
        "\n",
        "def sum_of_evens(numbers):\n",
        "    return sum(num for num in numbers if num % 2 == 0)\n",
        "\n",
        "# Example usage\n",
        "numbers = [1, 2, 3, 4, 5, 6]\n",
        "print(sum_of_evens(numbers))"
      ],
      "metadata": {
        "colab": {
          "base_uri": "https://localhost:8080/"
        },
        "id": "yArAPLBDlEMM",
        "outputId": "ee98a2ba-08b4-44cf-82d2-7089950eb6a3"
      },
      "execution_count": 10,
      "outputs": [
        {
          "output_type": "stream",
          "name": "stdout",
          "text": [
            "12\n"
          ]
        }
      ]
    },
    {
      "cell_type": "code",
      "source": [
        "#question2. Create a Python function that accepts a string and returns the reverse of that string\n",
        "\n",
        "def reverse_string(s):\n",
        "    return s[::-1]\n",
        "\n",
        "# Example usage\n",
        "string = \"hello\"\n",
        "print(reverse_string(string))"
      ],
      "metadata": {
        "colab": {
          "base_uri": "https://localhost:8080/"
        },
        "id": "gKWEiQJTlEXv",
        "outputId": "c90fc59b-e75f-492e-8260-a24124e6e495"
      },
      "execution_count": 11,
      "outputs": [
        {
          "output_type": "stream",
          "name": "stdout",
          "text": [
            "olleh\n"
          ]
        }
      ]
    },
    {
      "cell_type": "code",
      "source": [
        "#question3. Implement a Python function that takes a list of integers and returns a new list containing the squares of\n",
        "#each number.\n",
        "\n",
        "def square_numbers(numbers):\n",
        "    return [num ** 2 for num in numbers]\n",
        "\n",
        "# Example usage\n",
        "numbers = [1, 2, 3, 4]\n",
        "print(square_numbers(numbers))"
      ],
      "metadata": {
        "colab": {
          "base_uri": "https://localhost:8080/"
        },
        "id": "wTf3zU_YlEip",
        "outputId": "447f64ec-7638-4749-84e2-c9d2570492f9"
      },
      "execution_count": 13,
      "outputs": [
        {
          "output_type": "stream",
          "name": "stdout",
          "text": [
            "[1, 4, 9, 16]\n"
          ]
        }
      ]
    },
    {
      "cell_type": "code",
      "source": [
        "#question4. Write a Python function that checks if a given number is prime or not from 1 to 200.\n",
        "\n",
        "\n",
        "\n",
        "\n",
        "def is_prime(n):\n",
        "    if n < 2:\n",
        "        return False\n",
        "    for i in range(2, int(n**0.5) + 1):\n",
        "        if n % i == 0:\n",
        "            return False\n",
        "    return True\n",
        "\n",
        "# Example usage\n",
        "primes = [n for n in range(1, 201) if is_prime(n)]\n",
        "print(primes)"
      ],
      "metadata": {
        "colab": {
          "base_uri": "https://localhost:8080/"
        },
        "id": "yG4a-foFlErn",
        "outputId": "a8f7d1ba-43ab-41cc-b286-e9647bae880f"
      },
      "execution_count": 15,
      "outputs": [
        {
          "output_type": "stream",
          "name": "stdout",
          "text": [
            "[2, 3, 5, 7, 11, 13, 17, 19, 23, 29, 31, 37, 41, 43, 47, 53, 59, 61, 67, 71, 73, 79, 83, 89, 97, 101, 103, 107, 109, 113, 127, 131, 137, 139, 149, 151, 157, 163, 167, 173, 179, 181, 191, 193, 197, 199]\n"
          ]
        }
      ]
    },
    {
      "cell_type": "code",
      "source": [
        "#question5. Create an iterator class in Python that generates the Fibonacci sequence up to a specified number of\n",
        "#terms.\n",
        "\n",
        "\n",
        "class FibonacciIterator:\n",
        "    def __init__(self, n_terms):\n",
        "        self.n_terms = n_terms\n",
        "        self.current, self.next = 0, 1\n",
        "        self.count = 0\n",
        "\n",
        "    def __iter__(self):\n",
        "        return self\n",
        "\n",
        "    def __next__(self):\n",
        "        if self.count >= self.n_terms:\n",
        "            raise StopIteration\n",
        "        value = self.current\n",
        "        self.current, self.next = self.next, self.current + self.next\n",
        "        self.count += 1\n",
        "        return value\n",
        "\n",
        "# Example usage\n",
        "fib = FibonacciIterator(10)\n",
        "print(list(fib))"
      ],
      "metadata": {
        "colab": {
          "base_uri": "https://localhost:8080/"
        },
        "id": "nVA_PGvflE0T",
        "outputId": "f0469720-c638-4c84-9828-8c2acaed947d"
      },
      "execution_count": 16,
      "outputs": [
        {
          "output_type": "stream",
          "name": "stdout",
          "text": [
            "[0, 1, 1, 2, 3, 5, 8, 13, 21, 34]\n"
          ]
        }
      ]
    },
    {
      "cell_type": "code",
      "source": [
        "#question6. Write a generator function in Python that yields the powers of 2 up to a given exponent\n",
        "\n",
        "def powers_of_two(exponent):\n",
        "    for i in range(exponent + 1):\n",
        "        yield 2 ** i\n",
        "\n",
        "# Example usage\n",
        "for power in powers_of_two(5):\n",
        "    print(power)"
      ],
      "metadata": {
        "colab": {
          "base_uri": "https://localhost:8080/"
        },
        "id": "5_-rXunglE7W",
        "outputId": "4fbc77ca-13df-4125-fa1d-15eb05f4bc70"
      },
      "execution_count": 17,
      "outputs": [
        {
          "output_type": "stream",
          "name": "stdout",
          "text": [
            "1\n",
            "2\n",
            "4\n",
            "8\n",
            "16\n",
            "32\n"
          ]
        }
      ]
    },
    {
      "cell_type": "code",
      "source": [
        "#question7. Implement a generator function that reads a file line by line and yields each line as a string.\n",
        "\n",
        "def read_file_line_by_line(file_path):\n",
        "    with open(file_path, 'r') as file:\n",
        "        for line in file:\n",
        "            yield line.strip()"
      ],
      "metadata": {
        "id": "-lkRqwTClFCM"
      },
      "execution_count": 18,
      "outputs": []
    },
    {
      "cell_type": "code",
      "source": [
        "#question8. Use a lambda function in Python to sort a list of tuples based on the second element of each tuple.\n",
        "\n",
        "tuples = [(1, 3), (4, 1), (2, 2)]\n",
        "sorted_tuples = sorted(tuples, key=lambda x: x[1])\n",
        "print(sorted_tuples)"
      ],
      "metadata": {
        "colab": {
          "base_uri": "https://localhost:8080/"
        },
        "id": "Y83ClVBllFIa",
        "outputId": "2b451050-d3ce-4d46-ae44-caa8ec8f4f9c"
      },
      "execution_count": 19,
      "outputs": [
        {
          "output_type": "stream",
          "name": "stdout",
          "text": [
            "[(4, 1), (2, 2), (1, 3)]\n"
          ]
        }
      ]
    },
    {
      "cell_type": "code",
      "source": [
        "#question9. Write a Python program that uses `map()` to convert a list of temperatures from Celsius to Fahrenheit.\n",
        "\n",
        "def celsius_to_fahrenheit(celsius):\n",
        "    return list(map(lambda c: (c * 9/5) + 32, celsius))\n",
        "\n",
        "# Example usage\n",
        "celsius = [0, 20, 30, 100]\n",
        "print(celsius_to_fahrenheit(celsius))"
      ],
      "metadata": {
        "colab": {
          "base_uri": "https://localhost:8080/"
        },
        "id": "7zndEj92lFOE",
        "outputId": "22a57ef2-8561-4f8a-acbe-1621ec52e6c3"
      },
      "execution_count": 20,
      "outputs": [
        {
          "output_type": "stream",
          "name": "stdout",
          "text": [
            "[32.0, 68.0, 86.0, 212.0]\n"
          ]
        }
      ]
    },
    {
      "cell_type": "code",
      "source": [
        "#question10. Create a Python program that uses `filter()` to remove all the vowels from a given string.\n",
        "\n",
        "\n",
        "def remove_vowels(string):\n",
        "    vowels = \"aeiouAEIOU\"\n",
        "    return ''.join(filter(lambda char: char not in vowels, string))\n",
        "\n",
        "# Example usage\n",
        "text = \"Hello World\"\n",
        "print(remove_vowels(text))"
      ],
      "metadata": {
        "colab": {
          "base_uri": "https://localhost:8080/"
        },
        "id": "Ex-RFR2QlGvo",
        "outputId": "f0ad0b1f-58ad-4d2b-ff6a-c40541660b35"
      },
      "execution_count": 21,
      "outputs": [
        {
          "output_type": "stream",
          "name": "stdout",
          "text": [
            "Hll Wrld\n"
          ]
        }
      ]
    }
  ]
}